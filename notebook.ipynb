{
 "cells": [
  {
   "cell_type": "markdown",
   "id": "e8b8a49f-f940-4214-bf98-77dc35fa0a46",
   "metadata": {},
   "source": [
    "# Financial Distress Prediction Project\n",
    "### Context\n",
    "The project aims to identify companies that are likely to deal with bankruptcy.\n",
    "Each company has a score/target **Financial Distress** associated with the probability of leading to bankruptcy.\n",
    "### Content of Dataset\n",
    "**First column: Company** represents sample companies.\n",
    "\n",
    "**Second column: Time** shows different time periods that data belongs to. Time series length varies between 1 to 14 for each company.\n",
    "\n",
    "**Third column**: The target variable is denoted by \"**Financial Distress**\" if it is greater than -0.50 the company should be considered as **healthy (0)**. Otherwise, it would be regarded as **financially distressed (1)**.\n",
    "\n",
    "**Fourth column to the last column**: The anonymized features denoted by **x1** to **x83**, are some financial and non-financial characteristics of the sampled companies. These features belong to the previous time period, which should be used to predict whether the company will be financially distressed or not (classification). Feature **x80** is a **categorical variable**.\n",
    "\n",
    "### Goals of the project\n",
    "\n",
    "As a classification problem, finding:\n",
    "\n",
    "- the most indicative features of financial distress\n",
    "- a well performing machine learning model to predict the state of bankruptcy's risk.\n",
    "## Imports"
   ]
  },
  {
   "cell_type": "code",
   "execution_count": 1,
   "id": "ae8dd797-6626-4794-82f6-560ba1b0e3de",
   "metadata": {},
   "outputs": [],
   "source": [
    "import numpy as np\n",
    "import pandas as pd\n",
    "import matplotlib.pyplot as plt\n",
    "import seaborn as sns\n",
    "\n",
    "from sklearn.model_selection import train_test_split"
   ]
  },
  {
   "cell_type": "markdown",
   "id": "95475fe8-8977-40c6-a5c4-947c27449f93",
   "metadata": {},
   "source": [
    "## Data preparation\n",
    "Data from https://www.kaggle.com/datasets/shebrahimi/financial-distress\n",
    "### Reading the data"
   ]
  },
  {
   "cell_type": "code",
   "execution_count": 2,
   "id": "41d9c522-f025-43af-8431-480717673e16",
   "metadata": {},
   "outputs": [],
   "source": [
    "df = pd.read_csv(\"Financial-Distress.csv\")"
   ]
  },
  {
   "cell_type": "markdown",
   "id": "342c6e97-0879-41d3-b392-60f4ffc11707",
   "metadata": {},
   "source": [
    "### Making column names and values look uniform"
   ]
  },
  {
   "cell_type": "code",
   "execution_count": 3,
   "id": "ef259d7d-b8ba-4a20-b31d-7dbc75348769",
   "metadata": {},
   "outputs": [],
   "source": [
    "df.columns = df.columns.str.lower().str.replace(' ', '_')"
   ]
  },
  {
   "cell_type": "code",
   "execution_count": 4,
   "id": "d55c13ba-f0eb-4f39-ab8f-5817dfb1a9ed",
   "metadata": {},
   "outputs": [
    {
     "data": {
      "text/html": [
       "<div>\n",
       "<style scoped>\n",
       "    .dataframe tbody tr th:only-of-type {\n",
       "        vertical-align: middle;\n",
       "    }\n",
       "\n",
       "    .dataframe tbody tr th {\n",
       "        vertical-align: top;\n",
       "    }\n",
       "\n",
       "    .dataframe thead th {\n",
       "        text-align: right;\n",
       "    }\n",
       "</style>\n",
       "<table border=\"1\" class=\"dataframe\">\n",
       "  <thead>\n",
       "    <tr style=\"text-align: right;\">\n",
       "      <th></th>\n",
       "      <th>company</th>\n",
       "      <th>time</th>\n",
       "      <th>financial_distress</th>\n",
       "      <th>x1</th>\n",
       "      <th>x2</th>\n",
       "      <th>x3</th>\n",
       "      <th>x4</th>\n",
       "      <th>x5</th>\n",
       "      <th>x6</th>\n",
       "      <th>x7</th>\n",
       "      <th>...</th>\n",
       "      <th>x74</th>\n",
       "      <th>x75</th>\n",
       "      <th>x76</th>\n",
       "      <th>x77</th>\n",
       "      <th>x78</th>\n",
       "      <th>x79</th>\n",
       "      <th>x80</th>\n",
       "      <th>x81</th>\n",
       "      <th>x82</th>\n",
       "      <th>x83</th>\n",
       "    </tr>\n",
       "  </thead>\n",
       "  <tbody>\n",
       "    <tr>\n",
       "      <th>0</th>\n",
       "      <td>1</td>\n",
       "      <td>1</td>\n",
       "      <td>0.010636</td>\n",
       "      <td>1.2810</td>\n",
       "      <td>0.022934</td>\n",
       "      <td>0.87454</td>\n",
       "      <td>1.21640</td>\n",
       "      <td>0.060940</td>\n",
       "      <td>0.188270</td>\n",
       "      <td>0.52510</td>\n",
       "      <td>...</td>\n",
       "      <td>85.437</td>\n",
       "      <td>27.07</td>\n",
       "      <td>26.102</td>\n",
       "      <td>16.000</td>\n",
       "      <td>16.0</td>\n",
       "      <td>0.2</td>\n",
       "      <td>22</td>\n",
       "      <td>0.060390</td>\n",
       "      <td>30</td>\n",
       "      <td>49</td>\n",
       "    </tr>\n",
       "    <tr>\n",
       "      <th>1</th>\n",
       "      <td>1</td>\n",
       "      <td>2</td>\n",
       "      <td>-0.455970</td>\n",
       "      <td>1.2700</td>\n",
       "      <td>0.006454</td>\n",
       "      <td>0.82067</td>\n",
       "      <td>1.00490</td>\n",
       "      <td>-0.014080</td>\n",
       "      <td>0.181040</td>\n",
       "      <td>0.62288</td>\n",
       "      <td>...</td>\n",
       "      <td>107.090</td>\n",
       "      <td>31.31</td>\n",
       "      <td>30.194</td>\n",
       "      <td>17.000</td>\n",
       "      <td>16.0</td>\n",
       "      <td>0.4</td>\n",
       "      <td>22</td>\n",
       "      <td>0.010636</td>\n",
       "      <td>31</td>\n",
       "      <td>50</td>\n",
       "    </tr>\n",
       "    <tr>\n",
       "      <th>2</th>\n",
       "      <td>1</td>\n",
       "      <td>3</td>\n",
       "      <td>-0.325390</td>\n",
       "      <td>1.0529</td>\n",
       "      <td>-0.059379</td>\n",
       "      <td>0.92242</td>\n",
       "      <td>0.72926</td>\n",
       "      <td>0.020476</td>\n",
       "      <td>0.044865</td>\n",
       "      <td>0.43292</td>\n",
       "      <td>...</td>\n",
       "      <td>120.870</td>\n",
       "      <td>36.07</td>\n",
       "      <td>35.273</td>\n",
       "      <td>17.000</td>\n",
       "      <td>15.0</td>\n",
       "      <td>-0.2</td>\n",
       "      <td>22</td>\n",
       "      <td>-0.455970</td>\n",
       "      <td>32</td>\n",
       "      <td>51</td>\n",
       "    </tr>\n",
       "    <tr>\n",
       "      <th>3</th>\n",
       "      <td>1</td>\n",
       "      <td>4</td>\n",
       "      <td>-0.566570</td>\n",
       "      <td>1.1131</td>\n",
       "      <td>-0.015229</td>\n",
       "      <td>0.85888</td>\n",
       "      <td>0.80974</td>\n",
       "      <td>0.076037</td>\n",
       "      <td>0.091033</td>\n",
       "      <td>0.67546</td>\n",
       "      <td>...</td>\n",
       "      <td>54.806</td>\n",
       "      <td>39.80</td>\n",
       "      <td>38.377</td>\n",
       "      <td>17.167</td>\n",
       "      <td>16.0</td>\n",
       "      <td>5.6</td>\n",
       "      <td>22</td>\n",
       "      <td>-0.325390</td>\n",
       "      <td>33</td>\n",
       "      <td>52</td>\n",
       "    </tr>\n",
       "    <tr>\n",
       "      <th>4</th>\n",
       "      <td>2</td>\n",
       "      <td>1</td>\n",
       "      <td>1.357300</td>\n",
       "      <td>1.0623</td>\n",
       "      <td>0.107020</td>\n",
       "      <td>0.81460</td>\n",
       "      <td>0.83593</td>\n",
       "      <td>0.199960</td>\n",
       "      <td>0.047800</td>\n",
       "      <td>0.74200</td>\n",
       "      <td>...</td>\n",
       "      <td>85.437</td>\n",
       "      <td>27.07</td>\n",
       "      <td>26.102</td>\n",
       "      <td>16.000</td>\n",
       "      <td>16.0</td>\n",
       "      <td>0.2</td>\n",
       "      <td>29</td>\n",
       "      <td>1.251000</td>\n",
       "      <td>7</td>\n",
       "      <td>27</td>\n",
       "    </tr>\n",
       "  </tbody>\n",
       "</table>\n",
       "<p>5 rows × 86 columns</p>\n",
       "</div>"
      ],
      "text/plain": [
       "   company  time  financial_distress      x1        x2       x3       x4  \\\n",
       "0        1     1            0.010636  1.2810  0.022934  0.87454  1.21640   \n",
       "1        1     2           -0.455970  1.2700  0.006454  0.82067  1.00490   \n",
       "2        1     3           -0.325390  1.0529 -0.059379  0.92242  0.72926   \n",
       "3        1     4           -0.566570  1.1131 -0.015229  0.85888  0.80974   \n",
       "4        2     1            1.357300  1.0623  0.107020  0.81460  0.83593   \n",
       "\n",
       "         x5        x6       x7  ...      x74    x75     x76     x77   x78  \\\n",
       "0  0.060940  0.188270  0.52510  ...   85.437  27.07  26.102  16.000  16.0   \n",
       "1 -0.014080  0.181040  0.62288  ...  107.090  31.31  30.194  17.000  16.0   \n",
       "2  0.020476  0.044865  0.43292  ...  120.870  36.07  35.273  17.000  15.0   \n",
       "3  0.076037  0.091033  0.67546  ...   54.806  39.80  38.377  17.167  16.0   \n",
       "4  0.199960  0.047800  0.74200  ...   85.437  27.07  26.102  16.000  16.0   \n",
       "\n",
       "   x79  x80       x81  x82  x83  \n",
       "0  0.2   22  0.060390   30   49  \n",
       "1  0.4   22  0.010636   31   50  \n",
       "2 -0.2   22 -0.455970   32   51  \n",
       "3  5.6   22 -0.325390   33   52  \n",
       "4  0.2   29  1.251000    7   27  \n",
       "\n",
       "[5 rows x 86 columns]"
      ]
     },
     "execution_count": 4,
     "metadata": {},
     "output_type": "execute_result"
    }
   ],
   "source": [
    "df.head()"
   ]
  },
  {
   "cell_type": "markdown",
   "id": "b821ec0f-37af-4cbf-8284-f5358337e06d",
   "metadata": {},
   "source": [
    "### Feature **x80**"
   ]
  },
  {
   "cell_type": "code",
   "execution_count": 5,
   "id": "b82c4f94-9cd8-42dd-924c-92eef6155fab",
   "metadata": {},
   "outputs": [
    {
     "data": {
      "text/plain": [
       "Index([], dtype='object')"
      ]
     },
     "execution_count": 5,
     "metadata": {},
     "output_type": "execute_result"
    }
   ],
   "source": [
    "df.dtypes[df.dtypes == 'object'].index"
   ]
  },
  {
   "cell_type": "markdown",
   "id": "5e600501-d19d-443b-b435-dc4a317e0d1f",
   "metadata": {},
   "source": [
    "It seem's there no categorical feature as **x80** should be."
   ]
  },
  {
   "cell_type": "code",
   "execution_count": 6,
   "id": "4ae399fc-9537-4e29-a85e-2f53e5ea8832",
   "metadata": {},
   "outputs": [],
   "source": [
    "df[\"x80\"] = df[\"x80\"].astype(dtype=\"str\")"
   ]
  },
  {
   "cell_type": "markdown",
   "id": "2c5e8dec-4c0d-470c-bffc-e69ffd19f35f",
   "metadata": {},
   "source": [
    "### Features **company** and **time** useless"
   ]
  },
  {
   "cell_type": "code",
   "execution_count": 7,
   "id": "39cc3153-aa44-45d0-98e5-ef0408f22848",
   "metadata": {},
   "outputs": [],
   "source": [
    "df = df.drop(columns={\"company\", \"time\"})"
   ]
  },
  {
   "cell_type": "markdown",
   "id": "6c5d7503-111f-40b9-9ef7-a09e8cb0b4ee",
   "metadata": {},
   "source": [
    "### Target **financial_distress** preparation for classification\n",
    "According to the limit of **-0.50**, the target becomes binary."
   ]
  },
  {
   "cell_type": "code",
   "execution_count": 8,
   "id": "fc66beb7-3284-43ca-8809-df1cb9007a64",
   "metadata": {},
   "outputs": [
    {
     "data": {
      "text/plain": [
       "0       0\n",
       "1       0\n",
       "2       0\n",
       "3       1\n",
       "4       0\n",
       "       ..\n",
       "3667    0\n",
       "3668    0\n",
       "3669    0\n",
       "3670    0\n",
       "3671    0\n",
       "Name: financial_distress, Length: 3672, dtype: int64"
      ]
     },
     "execution_count": 8,
     "metadata": {},
     "output_type": "execute_result"
    }
   ],
   "source": [
    "df[\"financial_distress\"] = (df[\"financial_distress\"] <= np.float64(-0.5)).astype(int)\n",
    "df[\"financial_distress\"]"
   ]
  },
  {
   "cell_type": "markdown",
   "id": "3098be19-a59a-4a99-8a12-87d3c5dc23d4",
   "metadata": {},
   "source": [
    "## Setting up the validation framework\n",
    "### Perform the train/validation/test split with Scikit-Learn"
   ]
  },
  {
   "cell_type": "code",
   "execution_count": 9,
   "id": "b7bc0c38-9faa-4b58-830b-965507f4e5ea",
   "metadata": {},
   "outputs": [
    {
     "data": {
      "text/plain": [
       "(2202, 735, 735)"
      ]
     },
     "execution_count": 9,
     "metadata": {},
     "output_type": "execute_result"
    }
   ],
   "source": [
    "df_full_train, df_test = train_test_split(df, test_size=0.2, random_state=39)\n",
    "df_train, df_val = train_test_split(df_full_train, test_size=0.25, random_state=39)\n",
    "len(df_train), len(df_val), len(df_test)"
   ]
  },
  {
   "cell_type": "code",
   "execution_count": 10,
   "id": "5ed5a3ee-a705-4b9a-a37c-98618d59bbdb",
   "metadata": {},
   "outputs": [],
   "source": [
    "df_full_train = df_full_train.reset_index(drop=True)\n",
    "df_train = df_train.reset_index(drop=True)\n",
    "df_val = df_val.reset_index(drop=True)\n",
    "df_test = df_test.reset_index(drop=True)"
   ]
  },
  {
   "cell_type": "code",
   "execution_count": 11,
   "id": "b6c31eb5-9624-4df6-9f65-64f78db80a2e",
   "metadata": {},
   "outputs": [],
   "source": [
    "y_full_train = df_full_train.financial_distress.values\n",
    "y_train = df_train.financial_distress.values\n",
    "y_val = df_val.financial_distress.values\n",
    "y_test = df_test.financial_distress.values"
   ]
  },
  {
   "cell_type": "code",
   "execution_count": 12,
   "id": "7c98f92c-d1bf-48da-a49a-f1a445bf2db4",
   "metadata": {},
   "outputs": [],
   "source": [
    "del df_train['financial_distress']\n",
    "del df_val['financial_distress']\n",
    "del df_test['financial_distress'] "
   ]
  },
  {
   "cell_type": "markdown",
   "id": "669f7ec2-8df4-406a-80f8-6a62660eb58a",
   "metadata": {},
   "source": [
    "## EDA – Exploratory Data Analysis\n",
    "### Checking missing values"
   ]
  },
  {
   "cell_type": "code",
   "execution_count": 13,
   "id": "c74f4c60-7984-4845-81f5-8b0f41f67b2a",
   "metadata": {},
   "outputs": [
    {
     "data": {
      "text/plain": [
       "np.int64(0)"
      ]
     },
     "execution_count": 13,
     "metadata": {},
     "output_type": "execute_result"
    }
   ],
   "source": [
    "df_full_train.isna().sum().sum()"
   ]
  },
  {
   "cell_type": "markdown",
   "id": "cc4a727d-76d9-41ac-9aeb-7281b59d3b3d",
   "metadata": {},
   "source": [
    "There's **no** *NaN* values.\n",
    "### Looking at the target variable **financial_distress**"
   ]
  },
  {
   "cell_type": "code",
   "execution_count": 14,
   "id": "253a85aa-413a-4501-85b6-b434950e98b0",
   "metadata": {},
   "outputs": [
    {
     "data": {
      "text/plain": [
       "financial_distress\n",
       "0    0.961525\n",
       "1    0.038475\n",
       "Name: proportion, dtype: float64"
      ]
     },
     "execution_count": 14,
     "metadata": {},
     "output_type": "execute_result"
    }
   ],
   "source": [
    "df_full_train.financial_distress.value_counts(normalize=True)"
   ]
  },
  {
   "cell_type": "code",
   "execution_count": 15,
   "id": "afe9360c-651f-4549-bf53-44daf4ba9f05",
   "metadata": {},
   "outputs": [
    {
     "data": {
      "text/plain": [
       "np.float64(3.85)"
      ]
     },
     "execution_count": 15,
     "metadata": {},
     "output_type": "execute_result"
    }
   ],
   "source": [
    "global_bankruptcy_rate = df_full_train.financial_distress.mean()\n",
    "round(global_bankruptcy_rate*100, 2)"
   ]
  },
  {
   "cell_type": "markdown",
   "id": "ac37165f-a994-4371-9a4f-a2002bc9f19b",
   "metadata": {},
   "source": [
    "### Looking at numerical and categorical variables"
   ]
  },
  {
   "cell_type": "code",
   "execution_count": 16,
   "id": "8a746438-761c-4e03-a9d8-c0b9b9f3b21d",
   "metadata": {},
   "outputs": [
    {
     "name": "stdout",
     "output_type": "stream",
     "text": [
      "There're 82 numerical variables :\n",
      "Index(['x1', 'x2', 'x3', 'x4', 'x5', 'x6', 'x7', 'x8', 'x9', 'x10', 'x11',\n",
      "       'x12', 'x13', 'x14', 'x15', 'x16', 'x17', 'x18', 'x19', 'x20', 'x21',\n",
      "       'x22', 'x23', 'x24', 'x25', 'x26', 'x27', 'x28', 'x29', 'x30', 'x31',\n",
      "       'x32', 'x33', 'x34', 'x35', 'x36', 'x37', 'x38', 'x39', 'x40', 'x41',\n",
      "       'x42', 'x43', 'x44', 'x45', 'x46', 'x47', 'x48', 'x49', 'x50', 'x51',\n",
      "       'x52', 'x53', 'x54', 'x55', 'x56', 'x57', 'x58', 'x59', 'x60', 'x61',\n",
      "       'x62', 'x63', 'x64', 'x65', 'x66', 'x67', 'x68', 'x69', 'x70', 'x71',\n",
      "       'x72', 'x73', 'x74', 'x75', 'x76', 'x77', 'x78', 'x79', 'x81', 'x82',\n",
      "       'x83'],\n",
      "      dtype='object')\n",
      "\n",
      "There're 1 categorical variables :\n",
      "Index(['x80'], dtype='object')\n"
     ]
    }
   ],
   "source": [
    "del df_full_train['financial_distress']\n",
    "\n",
    "numerical_vars = df_full_train.select_dtypes(include=['int64', 'float64'])\n",
    "categorical_vars = df_full_train.select_dtypes(include=['object'])\n",
    "print(\"There're\", len(numerical_vars.columns),  \"numerical variables :\")\n",
    "print(numerical_vars.columns)\n",
    "print(\"\\nThere're\", len(categorical_vars.columns),  \"categorical variables :\")\n",
    "print(categorical_vars.columns)"
   ]
  },
  {
   "cell_type": "code",
   "execution_count": 17,
   "id": "9071cc4d-678e-448f-b440-e7312b4a47b8",
   "metadata": {},
   "outputs": [
    {
     "data": {
      "text/plain": [
       "Index(['x80'], dtype='object')"
      ]
     },
     "execution_count": 17,
     "metadata": {},
     "output_type": "execute_result"
    }
   ],
   "source": [
    "numerical = numerical_vars.columns\n",
    "categorical = categorical_vars.columns\n",
    "categorical"
   ]
  },
  {
   "cell_type": "code",
   "execution_count": 18,
   "id": "bf7380ee-fc5a-4077-b622-01448b539e74",
   "metadata": {},
   "outputs": [
    {
     "data": {
      "text/plain": [
       "x80    37\n",
       "dtype: int64"
      ]
     },
     "execution_count": 18,
     "metadata": {},
     "output_type": "execute_result"
    }
   ],
   "source": [
    "df_full_train[categorical].nunique()"
   ]
  }
 ],
 "metadata": {
  "kernelspec": {
   "display_name": "Python 3 (ipykernel)",
   "language": "python",
   "name": "python3"
  },
  "language_info": {
   "codemirror_mode": {
    "name": "ipython",
    "version": 3
   },
   "file_extension": ".py",
   "mimetype": "text/x-python",
   "name": "python",
   "nbconvert_exporter": "python",
   "pygments_lexer": "ipython3",
   "version": "3.11.9"
  }
 },
 "nbformat": 4,
 "nbformat_minor": 5
}
